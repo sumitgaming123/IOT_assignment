{
 "cells": [
  {
   "cell_type": "code",
   "execution_count": 322,
   "id": "526439e0-56ad-4095-8871-a63492cbf45a",
   "metadata": {},
   "outputs": [],
   "source": [
    "import numpy as np"
   ]
  },
  {
   "cell_type": "code",
   "execution_count": 323,
   "id": "ddf82b8e-36a4-431b-a510-83c8825380a6",
   "metadata": {},
   "outputs": [
    {
     "name": "stdout",
     "output_type": "stream",
     "text": [
      "[  1   7  13 105]\n",
      "type = <class 'numpy.ndarray'>\n",
      "Item Size = 8\n",
      "Size = 4\n"
     ]
    }
   ],
   "source": [
    "#01.Write a NumPy program to create an array with the values 1, 7, 13, 105 and determine the size of the memory occupied by the array.\n",
    "\n",
    "arr = np.array([1,7,13,105])\n",
    "print(arr)\n",
    "print(f\"type = {type(arr)}\")\n",
    "print(f\"Item Size = {arr.itemsize}\")\n",
    "print(f\"Size = {arr.size}\")"
   ]
  },
  {
   "cell_type": "code",
   "execution_count": 324,
   "id": "d49403be-2186-404d-8ac0-2ee6a04867f7",
   "metadata": {},
   "outputs": [
    {
     "name": "stdout",
     "output_type": "stream",
     "text": [
      "[  1   7  13 105]\n",
      "[  1   4  14 110]\n",
      "comparison-greater\n",
      "[False  True False False]\n",
      "comparison-greater_equal\n",
      "[ True  True False False]\n",
      "comparison-less\n",
      "[False False  True  True]\n",
      "comparison-less_equal\n",
      "[ True False  True  True]\n"
     ]
    }
   ],
   "source": [
    "#02.Write a NumPy program to create an element-wise comparison (greater,    greater_equal, less and less_equal) of two given arrays.\n",
    "\n",
    "arr = np.array([1,7,13,105])\n",
    "arr1 = np.array([1,4,14,110])\n",
    "print(arr)\n",
    "print(arr1)\n",
    "print(\"comparison-greater\")\n",
    "print(np.greater(arr,arr1))\n",
    "print(\"comparison-greater_equal\")\n",
    "print(np.greater_equal(arr,arr1))\n",
    "print(\"comparison-less\")\n",
    "print(np.less(arr,arr1))\n",
    "print(\"comparison-less_equal\")\n",
    "print(np.less_equal(arr,arr1))"
   ]
  },
  {
   "cell_type": "code",
   "execution_count": null,
   "id": "ffba0a88-5156-4aea-9686-dba32c24bb42",
   "metadata": {},
   "outputs": [],
   "source": []
  },
  {
   "cell_type": "code",
   "execution_count": 325,
   "id": "9e9c3cdb-d400-409f-ba58-e1cb27cd4c1c",
   "metadata": {},
   "outputs": [
    {
     "name": "stdout",
     "output_type": "stream",
     "text": [
      "[ 0  1  2  3  4  5  6  7  8  9 10]\n",
      "[0. 0. 0. 0. 0. 0. 0. 0. 0. 0.]\n",
      "[1. 1. 1. 1. 1. 1. 1. 1. 1. 1.]\n",
      "[5. 5. 5. 5. 5. 5. 5. 5. 5. 5.]\n",
      "[10. 10. 10. 10. 10. 10. 10. 10. 10. 10.]\n",
      "[20. 20. 20. 20. 20. 20. 20. 20. 20. 20.]\n",
      "[50. 50. 50. 50. 50. 50. 50. 50. 50. 50.]\n"
     ]
    }
   ],
   "source": [
    "#03.Write a NumPy program to create an array of 10 zeros, 10 ones, 10    fives, 10 tens, 10 twentys and 10 fiftys.\n",
    "\n",
    "arr2 = np.arange(0,11)\n",
    "print(arr2)\n",
    "arr2 = np.zeros(10)\n",
    "print(arr2)\n",
    "arr2 = np.ones(10)\n",
    "print(arr2)\n",
    "arr2 = np.ones(10)*5\n",
    "print(arr2)\n",
    "arr2 = np.ones(10)*10\n",
    "print(arr2)\n",
    "arr2 = np.ones(10)*20\n",
    "print(arr2)\n",
    "arr2 = np.ones(10)*50\n",
    "print(arr2)"
   ]
  },
  {
   "cell_type": "code",
   "execution_count": 326,
   "id": "cd17b617-2334-4c41-b2a0-1eab13e4ff4b",
   "metadata": {},
   "outputs": [
    {
     "name": "stdout",
     "output_type": "stream",
     "text": [
      "[30 31 32 33 34 35 36 37 38 39 40 41 42 43 44 45 46 47 48 49 50 51 52 53\n",
      " 54 55 56 57 58 59 60 61 62 63 64 65 66 67 68 69]\n"
     ]
    }
   ],
   "source": [
    "#04.Write a NumPy program to create an array of integers from 30 to 70.\n",
    "\n",
    "arr3 = np.arange(30,70)\n",
    "print(arr3)"
   ]
  },
  {
   "cell_type": "code",
   "execution_count": 327,
   "id": "9f1ae75b-8bfc-42b7-9d05-f450b7fcbeec",
   "metadata": {},
   "outputs": [
    {
     "name": "stdout",
     "output_type": "stream",
     "text": [
      "[50 51 52 53 54 55 56 57 58 59 60 61 62 63 64 65 66 67 68 69 70 71 72 73\n",
      " 74 75 76 77 78 79 80 81 82 83 84 85 86 87 88 89 90 91 92 93 94]\n"
     ]
    }
   ],
   "source": [
    "#05.Write a NumPy program to create an array of integers from 50 to 95.\n",
    "\n",
    "arr4 = np.arange(50,95)\n",
    "print(arr4)"
   ]
  },
  {
   "cell_type": "code",
   "execution_count": 328,
   "id": "18cc9f32-961e-40ac-b8b6-43cfd0c94c54",
   "metadata": {},
   "outputs": [
    {
     "name": "stdout",
     "output_type": "stream",
     "text": [
      "[20 22 24 26 28 30 32 34 36 38 40 42 44 46 48 50 52 54 56 58 60 62 64 66\n",
      " 68 70 72 74 76 78]\n"
     ]
    }
   ],
   "source": [
    "#06.Write a NumPy program to create an array of all even integers from 20 to 80.\n",
    "\n",
    "arr5 = np.arange(20,80,2)\n",
    "print(arr5)"
   ]
  },
  {
   "cell_type": "code",
   "execution_count": 329,
   "id": "820c0ccf-b1c0-4fca-9ed6-1af2124f28a4",
   "metadata": {},
   "outputs": [
    {
     "name": "stdout",
     "output_type": "stream",
     "text": [
      "[21 23 25 27 29 31 33 35 37 39 41 43 45 47 49 51 53 55 57 59 61 63 65 67\n",
      " 69 71 73 75 77 79]\n"
     ]
    }
   ],
   "source": [
    "#07.Write a NumPy program to create an array of all odd integers from 20 to 80.\n",
    "\n",
    "arr6 = np.arange(21,80,2)\n",
    "print(arr6)"
   ]
  },
  {
   "cell_type": "code",
   "execution_count": 330,
   "id": "6d4db53d-51ba-4a28-a02b-47079de6f4b3",
   "metadata": {},
   "outputs": [
    {
     "name": "stdout",
     "output_type": "stream",
     "text": [
      "[10 11 12 13 14 15 16 17 18 19 20 21 22 23 24 25 26 27 28 29 30 31 32 33\n",
      " 34 35 36 37 38 39]\n",
      "[18 18 21 15 33 19 32 16 18 21 23 15 31 37 33]\n"
     ]
    }
   ],
   "source": [
    "#08. Write a NumPy program to generate an array of 15 random numbers from 10 to 40.\n",
    "\n",
    "arr7 = np.arange(10,40)\n",
    "print(arr7)\n",
    "n = np.random.randint(10,40,15)\n",
    "print(n)"
   ]
  },
  {
   "cell_type": "code",
   "execution_count": 331,
   "id": "b82692b9-fd64-4ac0-89f1-0f544c75de36",
   "metadata": {},
   "outputs": [
    {
     "name": "stdout",
     "output_type": "stream",
     "text": [
      "[30 31 32 33 34 35 36 37 38 39 40 41 42 43 44 45 46 47 48 49]\n",
      "[45 46 36 33 30 41 41 34 33 48]\n"
     ]
    }
   ],
   "source": [
    "#09.Write a NumPy program to generate an array of 10 random numbers from 30 to 50.\n",
    "\n",
    "arr8 = np.arange(30,50)\n",
    "print(arr8)\n",
    "n = np.random.randint(30,50,10)\n",
    "print(n)"
   ]
  },
  {
   "cell_type": "code",
   "execution_count": 332,
   "id": "2dc4be00-f2e8-4c3c-ac0b-0b8fba387a40",
   "metadata": {},
   "outputs": [
    {
     "name": "stdout",
     "output_type": "stream",
     "text": [
      "[50 51 52 53 54 55 56 57 58 59 60 61 62 63 64 65 66 67 68 69 70 71 72 73\n",
      " 74 75 76 77 78 79 80 81 82 83 84 85 86 87 88 89]\n",
      "[84 84 69 52 62 81 68 57 50 65 77 66 86 85 58 78 54 56 50 66]\n"
     ]
    }
   ],
   "source": [
    "#10.Write a NumPy program to generate an array of 20 random numbers from 50 to 90.\n",
    "\n",
    "arr9 = np.arange(50,90)\n",
    "print(arr9)\n",
    "n = np.random.randint(50,90,20)\n",
    "print(n)"
   ]
  },
  {
   "cell_type": "code",
   "execution_count": 333,
   "id": "73755961-17a5-48ae-9be1-ea5b0af69bdc",
   "metadata": {},
   "outputs": [
    {
     "name": "stdout",
     "output_type": "stream",
     "text": [
      "[10 20 30 40]\n",
      "[11 22 33 44]\n",
      "[21 42 63 84]\n",
      "[-1 -2 -3 -4]\n",
      "[ 110  440  990 1760]\n",
      "[0.90909091 0.90909091 0.90909091 0.90909091]\n"
     ]
    }
   ],
   "source": [
    "#11.Create any two arrays & perform various mathematical operations.\n",
    "#i.e. Addition, Substraction, Multiplication, Divide.\n",
    "\n",
    "arr10 = np.array([10,20,30,40])\n",
    "arr11 = np.array([11,22,33,44])\n",
    "print(arr10)\n",
    "print(arr11)\n",
    "print(arr10 + arr11)\n",
    "print(arr10 - arr11)\n",
    "print(arr10 * arr11)\n",
    "print(arr10 / arr11)"
   ]
  },
  {
   "cell_type": "code",
   "execution_count": 334,
   "id": "f832618c-f960-4edd-a408-a1a5f007563d",
   "metadata": {},
   "outputs": [
    {
     "name": "stdout",
     "output_type": "stream",
     "text": [
      "[10 11 12 13 14 15 16 17 18 19 20 21]\n",
      "[[10 11 12]\n",
      " [13 14 15]\n",
      " [16 17 18]\n",
      " [19 20 21]]\n"
     ]
    }
   ],
   "source": [
    "#12.Write a NumPy program to create a 3x4 matrix filled with values from 10 to 21.\n",
    "\n",
    "arr12 = np.arange(10,22)\n",
    "print(arr12)\n",
    "n = arr12\n",
    "n = n.reshape([4,3])\n",
    "print(n)"
   ]
  },
  {
   "cell_type": "code",
   "execution_count": 335,
   "id": "5fa14c9e-7db1-48c1-a767-8f789e1a3e5c",
   "metadata": {},
   "outputs": [
    {
     "name": "stdout",
     "output_type": "stream",
     "text": [
      "[1 0 0 0 1 0 0 0 1]\n",
      "[[1 0 0]\n",
      " [0 1 0]\n",
      " [0 0 1]]\n"
     ]
    }
   ],
   "source": [
    "#13.Write a NumPy program to create a 3x3 identity matrix, i.e. the diagonal  elements are 1, the rest are 0.\n",
    "\n",
    "arr13 = np.array([1,0,0,0,1,0,0,0,1])\n",
    "print(arr13)\n",
    "n = arr13\n",
    "n= n.reshape([3,3])\n",
    "print(n)"
   ]
  },
  {
   "cell_type": "code",
   "execution_count": 336,
   "id": "cf4fd561-57ca-4962-9ef4-21b1f99cfff1",
   "metadata": {},
   "outputs": [
    {
     "name": "stdout",
     "output_type": "stream",
     "text": [
      "[[10 11 12]\n",
      " [13 14 15]\n",
      " [16 17 18]\n",
      " [19 20 21]]\n",
      "(4, 3)\n"
     ]
    }
   ],
   "source": [
    "#14.Write a NumPy program to find the number of rows and columns in a given matrix. \n",
    "\n",
    "arr14 = np.arange(10,22)\n",
    "n = arr14\n",
    "n = n.reshape([4,3])\n",
    "print(n)\n",
    "print(n.shape)"
   ]
  },
  {
   "cell_type": "code",
   "execution_count": 337,
   "id": "81d5cd16-6782-41ef-95fb-13c3edfdb435",
   "metadata": {},
   "outputs": [
    {
     "name": "stdout",
     "output_type": "stream",
     "text": [
      "[[1 0 0 0 0]\n",
      " [0 2 0 0 0]\n",
      " [0 0 3 0 0]\n",
      " [0 0 0 4 0]\n",
      " [0 0 0 0 5]]\n"
     ]
    }
   ],
   "source": [
    "#15.Write a NumPy program to create a 5x5 zero matrix with elements on the main diagonal equal to 1, 2, 3, 4, 5.\n",
    "\n",
    "arr15 = np.array([1,0,0,0,0,0,2,0,0,0,0,0,3,0,0,0,0,0,4,0,0,0,0,0,5])\n",
    "n = arr15\n",
    "n = n.reshape([5,5])\n",
    "print(n)"
   ]
  },
  {
   "cell_type": "code",
   "execution_count": 338,
   "id": "adba715d-04a0-4f14-8953-c418ef46fa7f",
   "metadata": {},
   "outputs": [
    {
     "name": "stdout",
     "output_type": "stream",
     "text": [
      "[[0.93146391 0.06308829 0.65318474]\n",
      " [0.9653588  0.8882007  0.91249202]\n",
      " [0.04098349 0.12174729 0.08237065]]\n"
     ]
    }
   ],
   "source": [
    "#16.Write a NumPy program to create a 3x3x3 array filled with arbitrary values.\n",
    "\n",
    "n = np.random.random(9)\n",
    "n = n.reshape([3,3])\n",
    "print(n)"
   ]
  },
  {
   "cell_type": "code",
   "execution_count": 339,
   "id": "a8d0df28-7075-43c0-b54a-9560a03bd2de",
   "metadata": {},
   "outputs": [
    {
     "name": "stdout",
     "output_type": "stream",
     "text": [
      "[[[0.08779945 0.13655132 0.73247468 0.92368089]\n",
      "  [0.42855788 0.82271321 0.7588517  0.76464524]\n",
      "  [0.9503041  0.9958528  0.29588464 0.92022555]]\n",
      "\n",
      " [[0.79751297 0.46923513 0.27473532 0.07741258]\n",
      "  [0.62581224 0.53933324 0.42069833 0.94956152]\n",
      "  [0.87070645 0.6368452  0.39912039 0.03556691]]]\n"
     ]
    }
   ],
   "source": [
    "#17.Write a NumPy program to create a 2x3x4 array filled with arbitrary values.\n",
    "\n",
    "n = np.random.rand(2*3*4)\n",
    "n = n.reshape([2,3,4])\n",
    "print(n)"
   ]
  },
  {
   "cell_type": "code",
   "execution_count": 340,
   "id": "dc3bc7f9-254c-4835-b637-0b7419f6eba5",
   "metadata": {},
   "outputs": [
    {
     "name": "stdout",
     "output_type": "stream",
     "text": [
      "[10 20 30 40 50]\n"
     ]
    }
   ],
   "source": [
    "#18.Write a NumPy program to convert a list of numeric values into a one- dimensional NumPy array.\n",
    "\n",
    "x = [10,20,30,40,50]\n",
    "arr16 = np.array(x)\n",
    "print(arr16)"
   ]
  },
  {
   "cell_type": "code",
   "execution_count": 341,
   "id": "29c188d4-6b4a-48bc-9a5d-7720ba64198f",
   "metadata": {},
   "outputs": [
    {
     "name": "stdout",
     "output_type": "stream",
     "text": [
      "[[ 2  3  4]\n",
      " [ 5  6  7]\n",
      " [ 8  9 10]]\n"
     ]
    }
   ],
   "source": [
    "#19.Write a NumPy program to create a 3x3 matrix with values ranging from 2 to 10.\n",
    "\n",
    "arr17 = np.arange(2,11)\n",
    "n = arr17\n",
    "n = n.reshape([3,3])\n",
    "print(n)"
   ]
  },
  {
   "cell_type": "code",
   "execution_count": 342,
   "id": "f91c1b7c-1037-4ba3-89bb-6742def5adfe",
   "metadata": {},
   "outputs": [
    {
     "name": "stdout",
     "output_type": "stream",
     "text": [
      "[12 13 14 15 16 17 18 19 20 21 22 23 24 25 26 27 28 29 30 31 32 33 34 35\n",
      " 36 37]\n"
     ]
    }
   ],
   "source": [
    "#20.Write a NumPy program to create an array with values ranging from 12 to 38.\n",
    "\n",
    "arr18 = np.arange(12,38)\n",
    "print(arr18)"
   ]
  },
  {
   "cell_type": "code",
   "execution_count": 343,
   "id": "9f51fdf2-d17d-4038-aa4a-8d7d71cd41be",
   "metadata": {},
   "outputs": [
    {
     "name": "stdout",
     "output_type": "stream",
     "text": [
      "[1 2 3 4 5]\n",
      "[5 4 3 2 1]\n"
     ]
    }
   ],
   "source": [
    "#21.Write a NumPy program to reverse an array (the first element becomes the last).\n",
    "\n",
    "arr19 = np.arange(1,6)\n",
    "print(arr19)\n",
    "arr19 = arr19[::-1]\n",
    "print(arr19)"
   ]
  },
  {
   "cell_type": "code",
   "execution_count": 344,
   "id": "9cd96ddf-e466-4d3a-be38-9ec121112fd2",
   "metadata": {},
   "outputs": [
    {
     "name": "stdout",
     "output_type": "stream",
     "text": [
      "[10 20 30 40 50]\n",
      "Dtype = int64\n",
      "[10. 20. 30. 40. 50.]\n",
      "Dtype = float16\n"
     ]
    }
   ],
   "source": [
    "#22.Write a NumPy program to convert an data type into to a floating type.\n",
    "\n",
    "arr20 = np.array([10,20,30,40,50])\n",
    "print(arr20)\n",
    "print(f\"Dtype = {arr20.dtype}\")\n",
    "arr20 = np.array([10,20,30,40,50],dtype = np.float16)\n",
    "print(arr20)\n",
    "print(f\"Dtype = {arr20.dtype}\")"
   ]
  },
  {
   "cell_type": "code",
   "execution_count": 345,
   "id": "d315b18a-3c5d-4727-ba15-5999e58c4908",
   "metadata": {},
   "outputs": [
    {
     "name": "stdout",
     "output_type": "stream",
     "text": [
      "[10, 20, 30, 40, 50]\n",
      "[10 20 30 40 50]\n"
     ]
    }
   ],
   "source": [
    "#23.Write a NumPy program to convert a list array.\n",
    "\n",
    "x = [10,20,30,40,50]\n",
    "print(x)\n",
    "arr21 = np.array(x)\n",
    "print(arr21)"
   ]
  },
  {
   "cell_type": "code",
   "execution_count": 346,
   "id": "c94e0367-e748-4d8e-896a-e0a7d7b5c467",
   "metadata": {},
   "outputs": [
    {
     "name": "stdout",
     "output_type": "stream",
     "text": [
      "[10 20 30 40 50]\n",
      "[10 20  0 10 20]\n"
     ]
    }
   ],
   "source": [
    "#24.Write a NumPy program to get the element-wise remainder of an array of division.\n",
    "\n",
    "arr22 = np.array([10,20,30,40,50])\n",
    "print(arr22)\n",
    "n = np.remainder(arr21,30)\n",
    "print(n)"
   ]
  },
  {
   "cell_type": "code",
   "execution_count": 347,
   "id": "c3f3923e-2f7a-44d2-a29c-91ab17a88839",
   "metadata": {},
   "outputs": [
    {
     "name": "stdout",
     "output_type": "stream",
     "text": [
      "[20 21 22 23 24 25 26 27 28 29 30 31 32 33 34 35 36 37 38 39 40 41 42 43\n",
      " 44 45 46 47 48 49]\n",
      "[21 24 27 30 33 36 39 42 45 48]\n",
      "[0 0 0 0 0 0 0 0 0 0]\n"
     ]
    }
   ],
   "source": [
    "#25.Write a NumPy program to get the element-wise remainder of an array of numbers from 20 to 50 which are divisible by 3.\n",
    "\n",
    "arr23 = np.arange(20,50)\n",
    "print(arr23)\n",
    "n = arr23[arr23 % 3 == 0]\n",
    "print(n)\n",
    "n = np.remainder(n,3)\n",
    "print(n)"
   ]
  }
 ],
 "metadata": {
  "kernelspec": {
   "display_name": "Python 3 (ipykernel)",
   "language": "python",
   "name": "python3"
  },
  "language_info": {
   "codemirror_mode": {
    "name": "ipython",
    "version": 3
   },
   "file_extension": ".py",
   "mimetype": "text/x-python",
   "name": "python",
   "nbconvert_exporter": "python",
   "pygments_lexer": "ipython3",
   "version": "3.10.12"
  }
 },
 "nbformat": 4,
 "nbformat_minor": 5
}
